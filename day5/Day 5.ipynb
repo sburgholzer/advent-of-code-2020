{
 "cells": [
  {
   "cell_type": "code",
   "execution_count": 38,
   "metadata": {},
   "outputs": [],
   "source": [
    "data = []\n",
    "with open('input.txt', 'r') as f:\n",
    "    data = f.read().splitlines()"
   ]
  },
  {
   "cell_type": "code",
   "execution_count": 47,
   "metadata": {},
   "outputs": [
    {
     "name": "stdout",
     "output_type": "stream",
     "text": [
      "838\n"
     ]
    }
   ],
   "source": [
    "seats = []\n",
    "\n",
    "for seat in data:\n",
    "    rows = range(0,127)\n",
    "    cols = list(range(0,8))\n",
    "\n",
    "    rowNum = 0\n",
    "    for letter in seat:\n",
    "        # F is lower half, B is upper half\n",
    "        middle = int((len(rows) - 1)/2)\n",
    "        middle = int((rows[0] + rows[-1]) / 2)\n",
    "        if letter == \"F\":\n",
    "            rows = list(range(rows[0], middle+1))\n",
    "        elif letter == \"B\":\n",
    "            rows = list(range(middle+1, rows[-1]+1))\n",
    "        elif letter == \"R\":\n",
    "            middle = int((cols[0] + cols[-1]) / 2 + 1)\n",
    "            cols = list(range(middle, cols[-1]+1))\n",
    "        elif letter == \"L\":\n",
    "            middle = int((cols[0] + cols[-1]) / 2 + 1)\n",
    "            cols = list(range(cols[0], middle))\n",
    "\n",
    "    rowNum = rows[0]\n",
    "    colNum = cols[0]\n",
    "    seatID = rowNum * 8 + colNum\n",
    "    seats.append(seatID)\n",
    "\n",
    "\n",
    "print(max(seats))"
   ]
  },
  {
   "cell_type": "markdown",
   "metadata": {},
   "source": [
    "Part 2"
   ]
  },
  {
   "cell_type": "code",
   "execution_count": 52,
   "metadata": {},
   "outputs": [
    {
     "name": "stdout",
     "output_type": "stream",
     "text": [
      "[714]\n"
     ]
    }
   ],
   "source": [
    "seats.sort()\n",
    "def find_missing(lst): \n",
    "    return [x for x in range(lst[0], lst[-1]+1) if x not in lst] \n",
    "\n",
    "print(find_missing(seats))"
   ]
  },
  {
   "cell_type": "code",
   "execution_count": 45,
   "metadata": {},
   "outputs": [
    {
     "name": "stdout",
     "output_type": "stream",
     "text": [
      "None\n"
     ]
    }
   ],
   "source": []
  },
  {
   "cell_type": "code",
   "execution_count": null,
   "metadata": {},
   "outputs": [],
   "source": []
  }
 ],
 "metadata": {
  "kernelspec": {
   "display_name": "Python 3",
   "language": "python",
   "name": "python3"
  },
  "language_info": {
   "codemirror_mode": {
    "name": "ipython",
    "version": 3
   },
   "file_extension": ".py",
   "mimetype": "text/x-python",
   "name": "python",
   "nbconvert_exporter": "python",
   "pygments_lexer": "ipython3",
   "version": "3.8.3"
  }
 },
 "nbformat": 4,
 "nbformat_minor": 4
}
