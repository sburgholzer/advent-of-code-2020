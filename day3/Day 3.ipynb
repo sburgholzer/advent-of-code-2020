{
 "cells": [
  {
   "cell_type": "code",
   "execution_count": 25,
   "metadata": {},
   "outputs": [],
   "source": [
    "from math import prod\n",
    "\n",
    "with open(\"input.txt\") as f:\n",
    "    data = f.read().splitlines()"
   ]
  },
  {
   "cell_type": "code",
   "execution_count": 26,
   "metadata": {},
   "outputs": [
    {
     "name": "stdout",
     "output_type": "stream",
     "text": [
      "274\n"
     ]
    }
   ],
   "source": [
    "# start in the top left\n",
    "dx,dy = 0,0\n",
    "# number of trees\n",
    "count = 0\n",
    "# go through the \"map\" and if the character is a #, then it is a tree and add to the count\n",
    "for line in data:\n",
    "    if line[dx % len(line)] == \"#\":\n",
    "        count += 1\n",
    "    dx += 3\n",
    "    dy += 1\n",
    "print(count)"
   ]
  },
  {
   "cell_type": "code",
   "execution_count": 43,
   "metadata": {},
   "outputs": [
    {
     "name": "stdout",
     "output_type": "stream",
     "text": [
      "6050183040\n"
     ]
    }
   ],
   "source": [
    "dx, dy = [0,0,0,0,0], [0,0,0,0,0]\n",
    "slopes = [(1,1), (3,1), (5,1), (7,1),(1,2)] \n",
    "trees = [0,0,0,0,0]\n",
    "\n",
    "for line_number, line in enumerate(data):\n",
    "    for char_index, slope in enumerate(slopes):\n",
    "        if char_index == 4 and line_number % 2 != 0:\n",
    "            continue\n",
    "        posX = dx[char_index]\n",
    "        posY = dy[char_index]\n",
    "        if line[posX % len(line)] == \"#\":\n",
    "            trees[char_index] += 1\n",
    "        dx[char_index] += slope[0]\n",
    "        dy[char_index] += slope[1]\n",
    "\n",
    "print(prod(trees))"
   ]
  },
  {
   "cell_type": "code",
   "execution_count": null,
   "metadata": {},
   "outputs": [],
   "source": []
  }
 ],
 "metadata": {
  "kernelspec": {
   "display_name": "Python 3",
   "language": "python",
   "name": "python3"
  },
  "language_info": {
   "codemirror_mode": {
    "name": "ipython",
    "version": 3
   },
   "file_extension": ".py",
   "mimetype": "text/x-python",
   "name": "python",
   "nbconvert_exporter": "python",
   "pygments_lexer": "ipython3",
   "version": "3.8.3"
  }
 },
 "nbformat": 4,
 "nbformat_minor": 4
}
